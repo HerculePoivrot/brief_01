{
 "cells": [
  {
   "cell_type": "code",
   "execution_count": 7,
   "metadata": {},
   "outputs": [
    {
     "name": "stdout",
     "output_type": "stream",
     "text": [
      "[{'name': 'Helen', 'job': 'Chef de projet', 'hourly_rate': 50, 'weekly_hours_worked': 44, 'contract_hours': 37}, {'name': 'Quincy', 'job': 'Testeur', 'hourly_rate': 28, 'weekly_hours_worked': 48, 'contract_hours': 40}, {'name': 'Fred', 'job': 'Manager', 'hourly_rate': 55, 'weekly_hours_worked': 33, 'contract_hours': 40}, {'name': 'Steve', 'job': 'Chef de projet', 'hourly_rate': 50, 'weekly_hours_worked': 32, 'contract_hours': 40}, {'name': 'Linda', 'job': 'Chef de projet', 'hourly_rate': 50, 'weekly_hours_worked': 34, 'contract_hours': 35}, {'name': 'Bob', 'job': 'Analyste', 'hourly_rate': 40, 'weekly_hours_worked': 35, 'contract_hours': 40}, {'name': 'Steve', 'job': 'Chef de projet', 'hourly_rate': 50, 'weekly_hours_worked': 50, 'contract_hours': 37}, {'name': 'Karen', 'job': 'Développeur', 'hourly_rate': 35, 'weekly_hours_worked': 33, 'contract_hours': 40}, {'name': 'Paul', 'job': 'Designer', 'hourly_rate': 30, 'weekly_hours_worked': 30, 'contract_hours': 35}, {'name': 'Bob', 'job': 'Développeur', 'hourly_rate': 35, 'weekly_hours_worked': 48, 'contract_hours': 35}, {'name': 'Bob', 'job': 'Manager', 'hourly_rate': 55, 'weekly_hours_worked': 45, 'contract_hours': 35}, {'name': 'Mike', 'job': 'Testeur', 'hourly_rate': 28, 'weekly_hours_worked': 33, 'contract_hours': 40}, {'name': 'Mike', 'job': 'Chef de projet', 'hourly_rate': 50, 'weekly_hours_worked': 43, 'contract_hours': 40}, {'name': 'Charlie', 'job': 'Chef de projet', 'hourly_rate': 50, 'weekly_hours_worked': 32, 'contract_hours': 37}, {'name': 'Helen', 'job': 'Testeur', 'hourly_rate': 28, 'weekly_hours_worked': 48, 'contract_hours': 35}]\n",
      "<class 'str'>\n",
      "T\n"
     ]
    },
    {
     "ename": "AttributeError",
     "evalue": "'str' object has no attribute 'get'",
     "output_type": "error",
     "traceback": [
      "\u001b[0;31m---------------------------------------------------------------------------\u001b[0m",
      "\u001b[0;31mAttributeError\u001b[0m                            Traceback (most recent call last)",
      "Cell \u001b[0;32mIn[7], line 16\u001b[0m\n\u001b[1;32m     14\u001b[0m \u001b[38;5;28;01mfor\u001b[39;00m person \u001b[38;5;129;01min\u001b[39;00m Company:\n\u001b[1;32m     15\u001b[0m     \u001b[38;5;28mprint\u001b[39m(person)\n\u001b[0;32m---> 16\u001b[0m     name \u001b[38;5;241m=\u001b[39m \u001b[43mperson\u001b[49m\u001b[38;5;241;43m.\u001b[39;49m\u001b[43mget\u001b[49m(\u001b[38;5;124m\"\u001b[39m\u001b[38;5;124mname\u001b[39m\u001b[38;5;124m\"\u001b[39m)\n\u001b[1;32m     17\u001b[0m     job \u001b[38;5;241m=\u001b[39m person\u001b[38;5;241m.\u001b[39mget(\u001b[38;5;124m\"\u001b[39m\u001b[38;5;124mjob\u001b[39m\u001b[38;5;124m\"\u001b[39m)\n\u001b[1;32m     18\u001b[0m     hours_worked \u001b[38;5;241m=\u001b[39m person\u001b[38;5;241m.\u001b[39mget(\u001b[38;5;124m\"\u001b[39m\u001b[38;5;124mweekly_hours_worked\u001b[39m\u001b[38;5;124m\"\u001b[39m)\n",
      "\u001b[0;31mAttributeError\u001b[0m: 'str' object has no attribute 'get'"
     ]
    }
   ],
   "source": [
    "import json\n",
    "import statistics\n",
    "\n",
    "with open(\"employes_data.json\", \"r\") as f:\n",
    "    data = json.load(f)\n",
    "\n",
    " \n",
    "for filiale in data:\n",
    "    print(data[filiale])\n",
    "    \n",
    "    company = filiale #Liste contenant un dictionnaire des employes de la filiale\n",
    "    print(type(company))\n",
    "\n",
    "    for person in company:\n",
    "        print(person)\n",
    "        name = person.get(\"name\")\n",
    "        job = person.get(\"job\")\n",
    "        hours_worked = person.get(\"weekly_hours_worked\")\n",
    "        contract_hours = person.get(\"contract_hours\")\n",
    "        rate = person.get(\"hourly_rate\")\n",
    "\n",
    "        heure = 0\n",
    "        salaire = 0\n",
    "        while heure <= hours_worked: #on sort de la boucle des que \n",
    "            if heure <= contract_hours:\n",
    "                salaire += rate\n",
    "                heure +=1\n",
    "            else :\n",
    "                salaire += rate*1.5\n",
    "                heure +=1\n",
    "        salaire *=4 #donnees pour le mois\n",
    "        person['salaire'] = float(salaire)\n",
    "    # on va trier par salaire croissant\n",
    "    sorted_company = sorted(company, key =lambda x : x['salaire'],reverse = True)\n",
    "\n",
    "    # Step 3 : Calcul des stats des employes company\n",
    "\n",
    "    salaire_max = float(max([d['salaire'] for d in company ]))\n",
    "    salaire_min = float(min([d['salaire'] for d in company ]))\n",
    "    salaire_mean = round(statistics.mean([d['salaire'] for d in company ]) , 2)\n",
    "\n",
    "    stats_filiale = []\n",
    "    stats_filiale.append({\"salaire_max\" : salaire_max})\n",
    "    stats_filiale.append({\"salaire_min\" : salaire_min})\n",
    "    stats_filiale.append({\"salaire_mean\" : salaire_mean})\n",
    "\n",
    "\n",
    "###############################################################################\n",
    "\n",
    "    print(\"company\")\n",
    "    print('*'*70)\n",
    "\n",
    "    l_nom = 10\n",
    "    l_job = 18\n",
    "    l_salaire = 35\n",
    "\n",
    "    for person in sorted_company:\n",
    "        print(f\"{person['name'].ljust(l_nom)} | {person['job'].ljust(l_job)} | salaire mensuel : {str(person['salaire']).ljust(l_salaire)}\")\n",
    "\n",
    "    print('='*70)\n",
    "    print(f\"Statistique des salaires pour l'entreprise company : \")\n",
    "    print(f\"Salaire moyen : {stats_filiale[2]['salaire_mean']}€\")\n",
    "    print(f\"Salaire minimum : {stats_filiale[1]['salaire_min']}€\")\n",
    "    print(f\"Salaire maximum : {stats_filiale[0]['salaire_max']}€\")\n",
    "    print('='*70)\n"
   ]
  },
  {
   "cell_type": "code",
   "execution_count": 19,
   "metadata": {},
   "outputs": [
    {
     "name": "stdout",
     "output_type": "stream",
     "text": [
      "Company\n",
      "**********************************************************************\n",
      "Steve      | Chef de projet     | salaire mensuel : 11500.0                            \n",
      "Bob        | Manager            | salaire mensuel : 11220.0                            \n",
      "Helen      | Chef de projet     | salaire mensuel : 9700.0                             \n",
      "Mike       | Chef de projet     | salaire mensuel : 9100.0                             \n",
      "Bob        | Développeur        | salaire mensuel : 7770.0                             \n",
      "Fred       | Manager            | salaire mensuel : 7480.0                             \n",
      "Linda      | Chef de projet     | salaire mensuel : 7000.0                             \n",
      "Steve      | Chef de projet     | salaire mensuel : 6600.0                             \n",
      "Charlie    | Chef de projet     | salaire mensuel : 6600.0                             \n",
      "Helen      | Testeur            | salaire mensuel : 6216.0                             \n",
      "Quincy     | Testeur            | salaire mensuel : 5936.0                             \n",
      "Bob        | Analyste           | salaire mensuel : 5760.0                             \n",
      "Karen      | Développeur        | salaire mensuel : 4760.0                             \n",
      "Mike       | Testeur            | salaire mensuel : 3808.0                             \n",
      "Paul       | Designer           | salaire mensuel : 3720.0                             \n",
      "======================================================================\n",
      "Statistique des salaires pour l'entreprise Company : \n",
      "Salaire moyen : 7144.67€\n",
      "Salaire minimum : 3720.0€\n",
      "Salaire maximum : 11500.0€\n",
      "======================================================================\n"
     ]
    }
   ],
   "source": [
    "print(\"company\")\n",
    "print('*'*70)\n",
    "\n",
    "l_nom = 10\n",
    "l_job = 18\n",
    "l_salaire = 35\n",
    "\n",
    "for person in sorted_company:\n",
    "    print(f\"{person['name'].ljust(l_nom)} | {person['job'].ljust(l_job)} | salaire mensuel : {str(person['salaire']).ljust(l_salaire)}\")\n",
    "\n",
    "print('='*70)\n",
    "print(f\"Statistique des salaires pour l'entreprise company : \")\n",
    "print(f\"Salaire moyen : {stats_filiale[2]['salaire_mean']}€\")\n",
    "print(f\"Salaire minimum : {stats_filiale[1]['salaire_min']}€\")\n",
    "print(f\"Salaire maximum : {stats_filiale[0]['salaire_max']}€\")\n",
    "print('='*70)"
   ]
  },
  {
   "cell_type": "code",
   "execution_count": 13,
   "metadata": {},
   "outputs": [
    {
     "name": "stdout",
     "output_type": "stream",
     "text": [
      "[{'name': 'Helen', 'job': 'Chef de projet', 'hourly_rate': 50, 'weekly_hours_worked': 44, 'contract_hours': 37, 'salaire': 9700.0}, {'name': 'Quincy', 'job': 'Testeur', 'hourly_rate': 28, 'weekly_hours_worked': 48, 'contract_hours': 40, 'salaire': 5936.0}, {'name': 'Fred', 'job': 'Manager', 'hourly_rate': 55, 'weekly_hours_worked': 33, 'contract_hours': 40, 'salaire': 7480.0}, {'name': 'Steve', 'job': 'Chef de projet', 'hourly_rate': 50, 'weekly_hours_worked': 32, 'contract_hours': 40, 'salaire': 6600.0}, {'name': 'Linda', 'job': 'Chef de projet', 'hourly_rate': 50, 'weekly_hours_worked': 34, 'contract_hours': 35, 'salaire': 7000.0}, {'name': 'Bob', 'job': 'Analyste', 'hourly_rate': 40, 'weekly_hours_worked': 35, 'contract_hours': 40, 'salaire': 5760.0}, {'name': 'Steve', 'job': 'Chef de projet', 'hourly_rate': 50, 'weekly_hours_worked': 50, 'contract_hours': 37, 'salaire': 11500.0}, {'name': 'Karen', 'job': 'Développeur', 'hourly_rate': 35, 'weekly_hours_worked': 33, 'contract_hours': 40, 'salaire': 4760.0}, {'name': 'Paul', 'job': 'Designer', 'hourly_rate': 30, 'weekly_hours_worked': 30, 'contract_hours': 35, 'salaire': 3720.0}, {'name': 'Bob', 'job': 'Développeur', 'hourly_rate': 35, 'weekly_hours_worked': 48, 'contract_hours': 35, 'salaire': 7770.0}, {'name': 'Bob', 'job': 'Manager', 'hourly_rate': 55, 'weekly_hours_worked': 45, 'contract_hours': 35, 'salaire': 11220.0}, {'name': 'Mike', 'job': 'Testeur', 'hourly_rate': 28, 'weekly_hours_worked': 33, 'contract_hours': 40, 'salaire': 3808.0}, {'name': 'Mike', 'job': 'Chef de projet', 'hourly_rate': 50, 'weekly_hours_worked': 43, 'contract_hours': 40, 'salaire': 9100.0}, {'name': 'Charlie', 'job': 'Chef de projet', 'hourly_rate': 50, 'weekly_hours_worked': 32, 'contract_hours': 37, 'salaire': 6600.0}, {'name': 'Helen', 'job': 'Testeur', 'hourly_rate': 28, 'weekly_hours_worked': 48, 'contract_hours': 35, 'salaire': 6216.0}]\n"
     ]
    }
   ],
   "source": [
    "company = data[\"company\"]\n",
    "print(company)"
   ]
  },
  {
   "cell_type": "code",
   "execution_count": 17,
   "metadata": {},
   "outputs": [
    {
     "name": "stdout",
     "output_type": "stream",
     "text": [
      "{'TechCorp': [{'name': 'Helen', 'job': 'Chef de projet', 'hourly_rate': 50, 'weekly_hours_worked': 44, 'contract_hours': 37}, {'name': 'Quincy', 'job': 'Testeur', 'hourly_rate': 28, 'weekly_hours_worked': 48, 'contract_hours': 40}, {'name': 'Fred', 'job': 'Manager', 'hourly_rate': 55, 'weekly_hours_worked': 33, 'contract_hours': 40}, {'name': 'Steve', 'job': 'Chef de projet', 'hourly_rate': 50, 'weekly_hours_worked': 32, 'contract_hours': 40}, {'name': 'Linda', 'job': 'Chef de projet', 'hourly_rate': 50, 'weekly_hours_worked': 34, 'contract_hours': 35}, {'name': 'Bob', 'job': 'Analyste', 'hourly_rate': 40, 'weekly_hours_worked': 35, 'contract_hours': 40}, {'name': 'Steve', 'job': 'Chef de projet', 'hourly_rate': 50, 'weekly_hours_worked': 50, 'contract_hours': 37}, {'name': 'Karen', 'job': 'Développeur', 'hourly_rate': 35, 'weekly_hours_worked': 33, 'contract_hours': 40}, {'name': 'Paul', 'job': 'Designer', 'hourly_rate': 30, 'weekly_hours_worked': 30, 'contract_hours': 35}, {'name': 'Bob', 'job': 'Développeur', 'hourly_rate': 35, 'weekly_hours_worked': 48, 'contract_hours': 35}, {'name': 'Bob', 'job': 'Manager', 'hourly_rate': 55, 'weekly_hours_worked': 45, 'contract_hours': 35}, {'name': 'Mike', 'job': 'Testeur', 'hourly_rate': 28, 'weekly_hours_worked': 33, 'contract_hours': 40}, {'name': 'Mike', 'job': 'Chef de projet', 'hourly_rate': 50, 'weekly_hours_worked': 43, 'contract_hours': 40}, {'name': 'Charlie', 'job': 'Chef de projet', 'hourly_rate': 50, 'weekly_hours_worked': 32, 'contract_hours': 37}, {'name': 'Helen', 'job': 'Testeur', 'hourly_rate': 28, 'weekly_hours_worked': 48, 'contract_hours': 35}], 'DesignWorks': [{'name': 'Jack', 'job': 'Analyste', 'hourly_rate': 40, 'weekly_hours_worked': 38, 'contract_hours': 40}, {'name': 'Emma', 'job': 'Designer', 'hourly_rate': 30, 'weekly_hours_worked': 34, 'contract_hours': 40}, {'name': 'Ian', 'job': 'Chef de projet', 'hourly_rate': 50, 'weekly_hours_worked': 37, 'contract_hours': 35}, {'name': 'Tina', 'job': 'Testeur', 'hourly_rate': 28, 'weekly_hours_worked': 48, 'contract_hours': 35}, {'name': 'Oliver', 'job': 'Chef de projet', 'hourly_rate': 50, 'weekly_hours_worked': 49, 'contract_hours': 40}, {'name': 'Jack', 'job': 'Designer', 'hourly_rate': 30, 'weekly_hours_worked': 33, 'contract_hours': 35}, {'name': 'Oliver', 'job': 'Manager', 'hourly_rate': 55, 'weekly_hours_worked': 45, 'contract_hours': 40}, {'name': 'Rachel', 'job': 'Testeur', 'hourly_rate': 28, 'weekly_hours_worked': 37, 'contract_hours': 35}, {'name': 'Ian', 'job': 'Testeur', 'hourly_rate': 28, 'weekly_hours_worked': 43, 'contract_hours': 37}, {'name': 'Jack', 'job': 'Chef de projet', 'hourly_rate': 50, 'weekly_hours_worked': 37, 'contract_hours': 35}, {'name': 'Rachel', 'job': 'Analyste', 'hourly_rate': 40, 'weekly_hours_worked': 32, 'contract_hours': 35}, {'name': 'Helen', 'job': 'Développeur', 'hourly_rate': 35, 'weekly_hours_worked': 37, 'contract_hours': 35}, {'name': 'George', 'job': 'Développeur', 'hourly_rate': 35, 'weekly_hours_worked': 30, 'contract_hours': 40}, {'name': 'Rachel', 'job': 'Testeur', 'hourly_rate': 28, 'weekly_hours_worked': 48, 'contract_hours': 35}, {'name': 'Emma', 'job': 'Chef de projet', 'hourly_rate': 50, 'weekly_hours_worked': 44, 'contract_hours': 37}, {'name': 'Mike', 'job': 'Manager', 'hourly_rate': 55, 'weekly_hours_worked': 32, 'contract_hours': 40}, {'name': 'Ian', 'job': 'Chef de projet', 'hourly_rate': 50, 'weekly_hours_worked': 39, 'contract_hours': 35}, {'name': 'Bob', 'job': 'Chef de projet', 'hourly_rate': 50, 'weekly_hours_worked': 45, 'contract_hours': 35}], 'ProjectLead': [{'name': 'Fred', 'job': 'Testeur', 'hourly_rate': 28, 'weekly_hours_worked': 49, 'contract_hours': 40}, {'name': 'Mike', 'job': 'Développeur', 'hourly_rate': 35, 'weekly_hours_worked': 32, 'contract_hours': 37}, {'name': 'Oliver', 'job': 'Chef de projet', 'hourly_rate': 50, 'weekly_hours_worked': 38, 'contract_hours': 35}, {'name': 'Tina', 'job': 'Manager', 'hourly_rate': 55, 'weekly_hours_worked': 37, 'contract_hours': 37}, {'name': 'Linda', 'job': 'Testeur', 'hourly_rate': 28, 'weekly_hours_worked': 39, 'contract_hours': 37}, {'name': 'Rachel', 'job': 'Designer', 'hourly_rate': 30, 'weekly_hours_worked': 48, 'contract_hours': 35}, {'name': 'Bob', 'job': 'Manager', 'hourly_rate': 55, 'weekly_hours_worked': 46, 'contract_hours': 35}, {'name': 'Steve', 'job': 'Chef de projet', 'hourly_rate': 50, 'weekly_hours_worked': 44, 'contract_hours': 37}, {'name': 'Jack', 'job': 'Chef de projet', 'hourly_rate': 50, 'weekly_hours_worked': 31, 'contract_hours': 37}, {'name': 'Jack', 'job': 'Designer', 'hourly_rate': 30, 'weekly_hours_worked': 46, 'contract_hours': 35}, {'name': 'Charlie', 'job': 'Manager', 'hourly_rate': 55, 'weekly_hours_worked': 43, 'contract_hours': 37}, {'name': 'Oliver', 'job': 'Développeur', 'hourly_rate': 35, 'weekly_hours_worked': 35, 'contract_hours': 37}, {'name': 'Nina', 'job': 'Analyste', 'hourly_rate': 40, 'weekly_hours_worked': 45, 'contract_hours': 40}, {'name': 'Steve', 'job': 'Designer', 'hourly_rate': 30, 'weekly_hours_worked': 42, 'contract_hours': 37}, {'name': 'Linda', 'job': 'Développeur', 'hourly_rate': 35, 'weekly_hours_worked': 36, 'contract_hours': 35}, {'name': 'Jack', 'job': 'Testeur', 'hourly_rate': 28, 'weekly_hours_worked': 46, 'contract_hours': 35}, {'name': 'Charlie', 'job': 'Chef de projet', 'hourly_rate': 50, 'weekly_hours_worked': 40, 'contract_hours': 35}]}\n"
     ]
    }
   ],
   "source": [
    "print(data)"
   ]
  },
  {
   "cell_type": "code",
   "execution_count": 23,
   "metadata": {},
   "outputs": [
    {
     "name": "stdout",
     "output_type": "stream",
     "text": [
      "TechCorp\n",
      "<class 'str'>\n",
      "DesignWorks\n",
      "<class 'str'>\n",
      "ProjectLead\n",
      "<class 'str'>\n"
     ]
    }
   ],
   "source": [
    "for dict in data:\n",
    "\n",
    "    name = dict\n",
    "    print(name)\n",
    "    print(type(name))"
   ]
  },
  {
   "cell_type": "code",
   "execution_count": null,
   "metadata": {},
   "outputs": [],
   "source": []
  }
 ],
 "metadata": {
  "kernelspec": {
   "display_name": ".venv",
   "language": "python",
   "name": "python3"
  },
  "language_info": {
   "codemirror_mode": {
    "name": "ipython",
    "version": 3
   },
   "file_extension": ".py",
   "mimetype": "text/x-python",
   "name": "python",
   "nbconvert_exporter": "python",
   "pygments_lexer": "ipython3",
   "version": "3.12.3"
  }
 },
 "nbformat": 4,
 "nbformat_minor": 2
}
